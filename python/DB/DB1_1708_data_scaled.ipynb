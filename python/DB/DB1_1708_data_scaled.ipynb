{
 "cells": [
  {
   "cell_type": "code",
   "execution_count": 3,
   "metadata": {
    "collapsed": true
   },
   "outputs": [],
   "source": [
    "import pandas as pd\n",
    "import numpy as np\n",
    "from sklearn.preprocessing import MinMaxScaler\n",
    "from hdfs import InsecureClient\n",
    "from scipy.stats import skew \n",
    "import os\n",
    "import mysql.connector as mariadb"
   ]
  },
  {
   "cell_type": "code",
   "execution_count": 4,
   "metadata": {
    "collapsed": true
   },
   "outputs": [],
   "source": [
    "client_hdfs = InsecureClient('http://10.1.41.102:50070')"
   ]
  },
  {
   "cell_type": "code",
   "execution_count": 22,
   "metadata": {
    "collapsed": true
   },
   "outputs": [],
   "source": [
    "def total_data():\n",
    "    raw_file_list = ['pre_dataset_bakery.csv', 'pre_dataset_cafe.csv', 'pre_dataset_chicken.csv', 'pre_dataset_chinese.csv',\n",
    "            'pre_dataset_fastFood.csv', 'pre_dataset_hof.csv', 'pre_dataset_japanese.csv', 'pre_dataset_korean.csv',\n",
    "            'pre_dataset_snack.csv', 'pre_dataset_western.csv']\n",
    "\n",
    "    df = pd.DataFrame(columns=['date', 'areaCode', 'serviceCode', 'totalNearStore', 'totalStore', 'avgNearMonth', 'nearSales', 'numberOfNearSales', 'avgMonth',\n",
    "           'numberOfSales', 'totalPeople', 'totalNearPeople', 'totalBizman','totalNearBizman', 'totalLivingPeople', 'avgIncome', 'avgOutcome',\n",
    "           'avgNearIcome', 'avgNearOutcome', 'totalFacility', 'totalNearFacility', 'sales'])\n",
    "\n",
    "    for csv in raw_file_list:\n",
    "        with client_hdfs.read('/user/hadoop/conf/'+csv, encoding = 'utf-8') as reader:\n",
    "            df_read = pd.read_csv(reader)\n",
    "        df = pd.concat([df, df_read])\n",
    "    df= df[['date', 'areaCode', 'serviceCode', 'totalNearStore', 'totalStore',\n",
    "       'avgNearMonth', 'nearSales', 'numberOfNearSales', 'avgMonth',\n",
    "       'numberOfSales', 'totalPeople', 'totalNearPeople', 'totalBizman',\n",
    "       'totalNearBizman', 'totalLivingPeople', 'avgIncome', 'avgOutcome',\n",
    "       'avgNearIcome', 'avgNearOutcome','totalFacility', 'totalNearFacility', 'sales']]\n",
    "    return df"
   ]
  },
  {
   "cell_type": "code",
   "execution_count": 23,
   "metadata": {
    "collapsed": true
   },
   "outputs": [],
   "source": [
    "latest_data = total_data()"
   ]
  },
  {
   "cell_type": "code",
   "execution_count": 24,
   "metadata": {
    "collapsed": false
   },
   "outputs": [
    {
     "name": "stderr",
     "output_type": "stream",
     "text": [
      "/home/el/anaconda3/lib/python3.5/site-packages/ipykernel/__main__.py:10: FutureWarning: the raise_on_error=False keyword is deprecated, use errors='ignore' instead\n",
      "/home/el/anaconda3/lib/python3.5/site-packages/ipykernel/__main__.py:16: RuntimeWarning: invalid value encountered in log1p\n"
     ]
    }
   ],
   "source": [
    "raw_data = latest_data[['date', 'areaCode', 'serviceCode', 'totalNearStore', 'totalStore',\n",
    "       'avgNearMonth', 'nearSales', 'numberOfNearSales', 'avgMonth',\n",
    "       'numberOfSales', 'totalPeople', 'totalNearPeople', 'totalBizman',\n",
    "       'totalNearBizman', 'totalLivingPeople', 'avgIncome', 'avgOutcome',\n",
    "       'avgNearIcome', 'totalFacility', 'totalNearFacility', 'sales']]\n",
    "\n",
    "meaning_data = raw_data.iloc[:,3:]\n",
    "#object타입을 float로 변환\n",
    "col_goto_change = meaning_data.dtypes[meaning_data.dtypes == \"object\"].index\n",
    "meaning_data[col_goto_change] = meaning_data[col_goto_change].apply(lambda x :x.astype('float64', raise_on_error = False))\n",
    "\n",
    "# #쓸 자료들 중에 왜도를 na로 바꿈\n",
    "skewness = meaning_data.apply(lambda x : skew(x.dropna()))\n",
    "\n",
    "#뽑힌 feature를 log1p 적용\n",
    "meaning_data = np.log1p(meaning_data)\n",
    "#변수가 헷갈릴 수 있으니 logated_data로 명시\n",
    "logated_data = meaning_data\n",
    "#이상치 제거된 na값들을 평균값으로 대체, 소수점 2자리까지 반영\n",
    "logated_data = logated_data.fillna(logated_data.mean()).apply(lambda x : round(x, 2))\n",
    "#return logated_data\n",
    "#logated_data.fillna(0.0)\n",
    "X_origin = logated_data.drop(['sales'], axis=1)\n",
    "Y = logated_data['sales']\n",
    "scaler = MinMaxScaler()\n",
    "X = scaler.fit_transform(X_origin)"
   ]
  },
  {
   "cell_type": "code",
   "execution_count": 25,
   "metadata": {
    "collapsed": false,
    "scrolled": true
   },
   "outputs": [
    {
     "name": "stderr",
     "output_type": "stream",
     "text": [
      "/home/el/anaconda3/lib/python3.5/site-packages/pandas/core/indexing.py:537: SettingWithCopyWarning: \n",
      "A value is trying to be set on a copy of a slice from a DataFrame.\n",
      "Try using .loc[row_indexer,col_indexer] = value instead\n",
      "\n",
      "See the caveats in the documentation: http://pandas.pydata.org/pandas-docs/stable/indexing.html#indexing-view-versus-copy\n",
      "  self.obj[item] = s\n",
      "/home/el/anaconda3/lib/python3.5/site-packages/ipykernel/__main__.py:2: SettingWithCopyWarning: \n",
      "A value is trying to be set on a copy of a slice from a DataFrame.\n",
      "Try using .loc[row_indexer,col_indexer] = value instead\n",
      "\n",
      "See the caveats in the documentation: http://pandas.pydata.org/pandas-docs/stable/indexing.html#indexing-view-versus-copy\n",
      "  from ipykernel import kernelapp as app\n"
     ]
    }
   ],
   "source": [
    "raw_data.iloc[:,3:-1] = X\n",
    "raw_data['sales'] = Y"
   ]
  },
  {
   "cell_type": "code",
   "execution_count": 31,
   "metadata": {
    "collapsed": false
   },
   "outputs": [],
   "source": [
    "df = raw_data[raw_data['date']==201708.0]"
   ]
  },
  {
   "cell_type": "code",
   "execution_count": 69,
   "metadata": {
    "collapsed": false
   },
   "outputs": [],
   "source": [
    "# def get_feature_in_latest_data(latest_data):\n",
    "#     meaning_data = latest_data.iloc[:,2:]\n",
    "#     #object타입을 float로 변환\n",
    "#     col_goto_change = meaning_data.dtypes[meaning_data.dtypes == \"object\"].index\n",
    "#     meaning_data[col_goto_change] = meaning_data[col_goto_change].apply(lambda x :x.astype('float64', raise_on_error = False))\n",
    "#     #쓸 자료들 중에 왜도를 na로 바꿈\n",
    "#     skewness = meaning_data.apply(lambda x : skew(x.dropna()))\n",
    "#     # skewness가 0.75이상인 값들만 feature로 사용\n",
    "#     skewed_feats = skewness[skewness>0.75].index\n",
    "#     #뽑힌 feature를 log1p 적용\n",
    "#     meaning_data[skewed_feats] = np.log1p(meaning_data[skewed_feats])\n",
    "#     #변수가 헷갈릴 수 있으니 logated_data로 명시\n",
    "#     logated_data = meaning_data[skewed_feats]\n",
    "#     #이상치 제거된 na값들을 평균값으로 대체\n",
    "#     logated_data = logated_data.fillna(logated_data.mean())\n",
    "#     X_origin = logated_data.drop(['sales'],axis=1)\n",
    "#     scaler = MinMaxScaler()\n",
    "#     X = scaler.fit_transform(X_origin)\n",
    "#     logated_data.iloc[:,:-1] = X\n",
    "#     latest_data.iloc[:,2:] = logated_data\n",
    "#     df = latest_data.dropna(axis=1)\n",
    "#     df.to_csv(\"../output/total_latest_data.csv\", index=False)\n",
    "#     return df"
   ]
  },
  {
   "cell_type": "code",
   "execution_count": 40,
   "metadata": {
    "collapsed": false
   },
   "outputs": [],
   "source": [
    "df\n",
    "df.to_csv(\"../output/total_latest_data.csv\", index=False)"
   ]
  },
  {
   "cell_type": "code",
   "execution_count": 36,
   "metadata": {
    "collapsed": false
   },
   "outputs": [
    {
     "data": {
      "text/plain": [
       "Index(['date', 'areaCode', 'serviceCode', 'totalNearStore', 'totalStore',\n",
       "       'avgNearMonth', 'nearSales', 'numberOfNearSales', 'avgMonth',\n",
       "       'numberOfSales', 'totalPeople', 'totalNearPeople', 'totalBizman',\n",
       "       'totalNearBizman', 'totalLivingPeople', 'avgIncome', 'avgOutcome',\n",
       "       'avgNearIcome', 'totalFacility', 'totalNearFacility', 'sales'],\n",
       "      dtype='object')"
      ]
     },
     "execution_count": 36,
     "metadata": {},
     "output_type": "execute_result"
    }
   ],
   "source": [
    "df.columns"
   ]
  },
  {
   "cell_type": "code",
   "execution_count": 37,
   "metadata": {
    "collapsed": true
   },
   "outputs": [],
   "source": [
    "mariadb_connection = mariadb.connect(user='root', password='el', database='el')\n",
    "cursor = mariadb_connection.cursor()"
   ]
  },
  {
   "cell_type": "code",
   "execution_count": 38,
   "metadata": {
    "collapsed": true
   },
   "outputs": [],
   "source": [
    "for row in df.iterrows():\n",
    "    input_value =row[1]\n",
    "    cursor.execute(\"insert into 1708_data values ({})\".format(\",\".join(repr(e) for e in input_value)))"
   ]
  },
  {
   "cell_type": "code",
   "execution_count": 39,
   "metadata": {
    "collapsed": true
   },
   "outputs": [],
   "source": [
    "cursor.execute(\"commit\")"
   ]
  },
  {
   "cell_type": "code",
   "execution_count": null,
   "metadata": {
    "collapsed": true
   },
   "outputs": [],
   "source": []
  }
 ],
 "metadata": {
  "anaconda-cloud": {},
  "kernelspec": {
   "display_name": "Python [conda root]",
   "language": "python",
   "name": "conda-root-py"
  },
  "language_info": {
   "codemirror_mode": {
    "name": "ipython",
    "version": 3
   },
   "file_extension": ".py",
   "mimetype": "text/x-python",
   "name": "python",
   "nbconvert_exporter": "python",
   "pygments_lexer": "ipython3",
   "version": "3.5.5"
  }
 },
 "nbformat": 4,
 "nbformat_minor": 1
}
